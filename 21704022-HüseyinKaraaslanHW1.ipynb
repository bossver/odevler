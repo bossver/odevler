{
 "cells": [
  {
   "cell_type": "code",
   "execution_count": 4,
   "metadata": {},
   "outputs": [
    {
     "name": "stdout",
     "output_type": "stream",
     "text": [
      " a değerini girin 2\n",
      " b değerini girin 5\n",
      " c değerini girin 2\n",
      "-0.5\n",
      "-2.0\n"
     ]
    }
   ],
   "source": [
    "a=int(input(\" a değerini girin \"))\n",
    "b=int(input(\" b değerini girin \"))\n",
    "c=int(input(\" c değerini girin \"))\n",
    "diskriminant=(b**2)-(4*a*c)\n",
    "x1=(-b+diskriminant**0.5)/(2*a)\n",
    "print(x1)\n",
    "x2=(-b-diskriminant**0.5)/(2*a)\n",
    "print(x2)"
   ]
  },
  {
   "cell_type": "code",
   "execution_count": null,
   "metadata": {},
   "outputs": [],
   "source": []
  }
 ],
 "metadata": {
  "kernelspec": {
   "display_name": "Python 3",
   "language": "python",
   "name": "python3"
  },
  "language_info": {
   "codemirror_mode": {
    "name": "ipython",
    "version": 3
   },
   "file_extension": ".py",
   "mimetype": "text/x-python",
   "name": "python",
   "nbconvert_exporter": "python",
   "pygments_lexer": "ipython3",
   "version": "3.6.5"
  }
 },
 "nbformat": 4,
 "nbformat_minor": 2
}
