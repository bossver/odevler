{
 "cells": [
  {
   "cell_type": "code",
   "execution_count": 1,
   "metadata": {},
   "outputs": [
    {
     "name": "stdout",
     "output_type": "stream",
     "text": [
      "a:4\n",
      "b:6\n",
      "c:7\n",
      "kok 1 : (-0.7500000000000001-1.0897247358851685j)\n",
      " kok 2 : (-0.7499999999999999+1.0897247358851685j)\n",
      "\n"
     ]
    }
   ],
   "source": [
    "a=int(input(\"a:\"))\n",
    "b=int(input(\"b:\"))\n",
    "c=int(input(\"c:\"))\n",
    " \n",
    "delta=b**2-4*a*c\n",
    " \n",
    "x1=(-b - delta **0.5)/(2 * a)\n",
    "x2=(-b + delta **0.5)/(2 * a)\n",
    " \n",
    "print('kok 1 : {}\\n kok 2 : {}\\n'.format(x1,x2))"
   ]
  },
  {
   "cell_type": "code",
   "execution_count": null,
   "metadata": {},
   "outputs": [],
   "source": []
  }
 ],
 "metadata": {
  "kernelspec": {
   "display_name": "Python 3",
   "language": "python",
   "name": "python3"
  },
  "language_info": {
   "codemirror_mode": {
    "name": "ipython",
    "version": 3
   },
   "file_extension": ".py",
   "mimetype": "text/x-python",
   "name": "python",
   "nbconvert_exporter": "python",
   "pygments_lexer": "ipython3",
   "version": "3.7.4"
  }
 },
 "nbformat": 4,
 "nbformat_minor": 2
}
